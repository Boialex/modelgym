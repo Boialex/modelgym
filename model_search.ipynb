{
 "cells": [
  {
   "cell_type": "code",
   "execution_count": 1,
   "metadata": {
    "collapsed": true
   },
   "outputs": [],
   "source": [
    "import os\n",
    "import pickle\n",
    "import itertools\n",
    "import pandas as pd\n",
    "import numpy as np\n",
    "import modelgym\n",
    "from modelgym.util import TASK_CLASSIFICATION\n",
    "from modelgym.trainer import Trainer\n",
    "from modelgym import ProgressTrackerFile, ProgressTrackerMongo\n",
    "from sklearn.metrics import roc_auc_score\n",
    "from hyperopt.mongoexp import MongoTrials\n",
    "from modelgym.util import split_and_preprocess\n",
    "\n",
    "########### NROWS, N_ESTIMATORS, N_PROBES, TEST_SIZE, N_CV_SPLITS, OPTIMIZER\n",
    "config_tuple = {\n",
    "    'test': (1000, 10,  2, 0.5, 2, 'random'),\n",
    "    'pror': (None, 1000, 100, 0.5, 2, 'random'), # production with random hyperopt suggestor\n",
    "    'prot': (None, 1000, 100, 0.5, 2, 'tpe'),    # production with tpe hyperopt suggestor\n",
    "    'demi': (10000, 100, 5, 0.5, 2, 'random')\n",
    "}\n",
    "CONFIG = 'test' if 'EXP_CONFIG' not in os.environ else os.environ['EXP_CONFIG']\n",
    "NROWS, N_ESTIMATORS, N_PROBES, TEST_SIZE, N_CV_SPLITS, OPTIMIZER = config_tuple[CONFIG]\n",
    "EXP_KEYS = ['xgb', 'lgb'] # which experiments to run, order is important for report\n",
    "EXP_NAMES = {\n",
    "    'xgb': (modelgym.XGBModel), \n",
    "    'lgb': (modelgym.LGBModel),\n",
    "}\n",
    "RESULTS_DIR = \"results\"\n",
    "LOAD_CACHE = False\n",
    "is_mongo = False"
   ]
  },
  {
   "cell_type": "code",
   "execution_count": 2,
   "metadata": {},
   "outputs": [
    {
     "name": "stdout",
     "output_type": "stream",
     "text": [
      "Running experiment cofiguration: test\n"
     ]
    }
   ],
   "source": [
    "print \"Running experiment cofiguration:\", CONFIG"
   ]
  },
  {
   "cell_type": "code",
   "execution_count": 3,
   "metadata": {},
   "outputs": [
    {
     "name": "stdout",
     "output_type": "stream",
     "text": [
      "total 133116\n",
      "-rw-r--r-- 1 root root 136304022 Jun 11 00:12 XY2d.pickle\n"
     ]
    }
   ],
   "source": [
    "%%bash \n",
    "if [ ! -d data ] ; then \n",
    "    mkdir data \n",
    "    cd data\n",
    "    curl https://cernbox.cern.ch/index.php/s/N1dpSAPgl30szYM/download | gunzip -c > XY2d.pickle\n",
    "fi\n",
    "ls -l data"
   ]
  },
  {
   "cell_type": "code",
   "execution_count": 4,
   "metadata": {},
   "outputs": [
    {
     "name": "stdout",
     "output_type": "stream",
     "text": [
      "CPU times: user 844 ms, sys: 192 ms, total: 1.04 s\n",
      "Wall time: 1.03 s\n"
     ]
    }
   ],
   "source": [
    "%%time\n",
    "def read_commented_head(fname, nrows=None):\n",
    "    with open(fname) as fh:\n",
    "        X, y = pickle.load(fh)\n",
    "    index = np.arange(X.shape[0])\n",
    "    index_perm = np.random.permutation(index)\n",
    "    if nrows is None:\n",
    "        nrows = X.shape[0]\n",
    "    return X[index_perm[:nrows]], y[index_perm[:nrows]], np.ones(nrows)\n",
    "\n",
    "\n",
    "X, y, weights = read_commented_head(\"data/XY2d.pickle\", nrows=NROWS)\n"
   ]
  },
  {
   "cell_type": "code",
   "execution_count": 5,
   "metadata": {
    "collapsed": true
   },
   "outputs": [],
   "source": [
    "from sklearn.model_selection import train_test_split\n",
    "X_train, X_test, y_train, y_test, w_train, w_test = train_test_split(X, y, weights, test_size=TEST_SIZE)"
   ]
  },
  {
   "cell_type": "code",
   "execution_count": 6,
   "metadata": {
    "collapsed": true
   },
   "outputs": [],
   "source": [
    "cat_cols = []\n",
    "cv_pairs, (dtrain, dtest) = split_and_preprocess(X_train.copy(), y_train, \n",
    "                                                X_test.copy(), y_test, \n",
    "                                                cat_cols, n_splits=N_CV_SPLITS)"
   ]
  },
  {
   "cell_type": "markdown",
   "metadata": {},
   "source": [
    "## Setup trackers"
   ]
  },
  {
   "cell_type": "code",
   "execution_count": 7,
   "metadata": {},
   "outputs": [],
   "source": [
    "if 0 and 'MONGO_PORT_27017_TCP_ADDR' in os.environ:\n",
    "    mongo_host = os.environ['MONGO_PORT_27017_TCP_ADDR'] if 'MONGO_PORT_27017_TCP_ADDR' in os.environ else 'cern-mc01h'\n",
    "    mongo_port = int(os.environ['MONGO_PORT_27017_TCP_PORT']) if 'MONGO_PORT_27017_TCP_PORT' in os.environ else 27017\n",
    "    mongo_db = os.environ['MONGO_DB'] if 'MONGO_DB' in os.environ else 'trials'\n",
    "    is_mongo = True\n",
    "    print \"Using MONGO as backend\""
   ]
  },
  {
   "cell_type": "markdown",
   "metadata": {},
   "source": [
    "## Run them all"
   ]
  },
  {
   "cell_type": "code",
   "execution_count": 8,
   "metadata": {},
   "outputs": [],
   "source": [
    "trackers = {}\n",
    "def init_exp_dict():\n",
    "    return dict([(k, None) for k in EXP_KEYS])\n",
    "default_cv_result = init_exp_dict()\n",
    "tuned_cv_result = init_exp_dict()\n",
    "default_test_result = init_exp_dict()\n",
    "tuned_test_result = init_exp_dict()\n",
    "trials = init_exp_dict()\n",
    "trainer = Trainer(hyperopt_evals=N_PROBES, n_estimators=N_ESTIMATORS)"
   ]
  },
  {
   "cell_type": "code",
   "execution_count": 9,
   "metadata": {},
   "outputs": [
    {
     "name": "stdout",
     "output_type": "stream",
     "text": [
      "~~~~~~~~~~~~~~~~~~~~ XGBoost\n",
      "saved state to results/tracker_test_xgb.pickle\n",
      "Default XGBoost result on CV:\n",
      "\n",
      "loss = 0.4665985\n",
      "best_n_estimators = 10\n",
      "params = {'reg_alpha': 0, 'eval_metric': 'logloss', 'colsample_bylevel': 1, 'scale_pos_weight': 1, 'learning_rate': 0.1, 'max_delta_step': 0, 'base_score': 0.5, 'n_estimators': 100, 'seed': 0, 'colsample_bytree': 1, 'silent': 1, 'missing': None, 'nthread': -1, 'min_child_weight': 1, 'subsample': 1, 'reg_lambda': 1, 'objective': 'binary:logistic', 'max_depth': 3, 'gamma': 0}\n",
      "saved state to results/tracker_test_xgb.pickle\n",
      "Default XGBoost result on TEST:\n",
      "\n",
      "loss = 0.438345\n",
      "n_estimators = 10\n",
      "params = {'reg_alpha': 0, 'eval_metric': 'logloss', 'colsample_bylevel': 1, 'scale_pos_weight': 1, 'learning_rate': 0.1, 'max_delta_step': 0, 'base_score': 0.5, 'n_estimators': 100, 'seed': 0, 'colsample_bytree': 1, 'silent': 1, 'missing': None, 'nthread': -1, 'min_child_weight': 1, 'subsample': 1, 'reg_lambda': 1, 'objective': 'binary:logistic', 'max_depth': 3, 'gamma': 0}\n",
      "roc_auc = 0.788253\n",
      "Hyperopt iterations:\n",
      "\n",
      "\n",
      "[1/2]\teval_time=0.03 sec\tcurrent_logloss=0.434833\tmin_logloss=0.434833\n",
      "[2/2]\teval_time=0.02 sec\tcurrent_logloss=0.482499\tmin_logloss=0.434833\n",
      "saved state to results/tracker_test_xgb.pickle\n",
      "saved state to results/tracker_test_xgb.pickle\n",
      "Tuned XGBoost result on cv:\n",
      "\n",
      "loss = 0.4348335\n",
      "best_n_estimators = 10\n",
      "params = {'colsample_bytree': 0.6151399892026908, 'silent': 1, 'eval_metric': 'logloss', 'colsample_bylevel': 0.7405046763756069, 'min_child_weight': 0.16853765259109013, 'subsample': 0.6197753137030573, 'eta': 0.22398969443165967, 'objective': 'binary:logistic', 'alpha': 0, 'max_depth': 10, 'gamma': 5.745168482871384e-07, 'lambda': 0.019440307789833522}\n",
      "saved state to results/tracker_test_xgb.pickle\n",
      "Tuned XGBoost result on test:\n",
      "\n",
      "loss = 0.336811\n",
      "n_estimators = 10\n",
      "params = {'colsample_bytree': 0.6151399892026908, 'silent': 1, 'eval_metric': 'logloss', 'colsample_bylevel': 0.7405046763756069, 'min_child_weight': 0.16853765259109013, 'subsample': 0.6197753137030573, 'eta': 0.22398969443165967, 'objective': 'binary:logistic', 'alpha': 0, 'max_depth': 10, 'gamma': 5.745168482871384e-07, 'lambda': 0.019440307789833522}\n",
      "roc_auc = 0.842389\n",
      "saved state to results/tracker_test_xgb.pickle\n",
      "~~~~~~~~~~~~~~~~~~~~ LightGBM\n",
      "saved state to results/tracker_test_lgb.pickle\n",
      "Default LightGBM result on CV:\n",
      "\n",
      "loss = 0.46381731631\n",
      "best_n_estimators = 10\n",
      "params = {'min_data_in_leaf': 20, 'sigmoid': 1.0, 'min_sum_hessian_in_leaf': 0.001, 'seed': 0, 'max_drop': 50, 'bagging_freq': 1, 'verbose': -1, 'lambda_l1': 0, 'min_child_samples': 10, 'lambda_l2': 0, 'nthread': 4, 'min_child_weight': 5, 'min_split_gain': 0, 'max_bin': 255, 'objective': 'binary', 'boosting_type': 'gbdt', 'metric': 'binary_logloss', 'skip_drop': 0.5, 'num_leaves': 31, 'reg_alpha': 0, 'subsample_for_bin': 50000, 'scale_pos_weight': 1, 'learning_rate': 0.1, 'n_estimators': 10, 'uniform_drop': False, 'num_threads': 4, 'colsample_bytree': 1, 'subsample_freq': 1, 'xgboost_dart_mode': False, 'max_depth': -1, 'subsample': 1, 'reg_lambda': 0, 'drop_rate': 0.1, 'is_unbalance': False}\n",
      "saved state to results/tracker_test_lgb.pickle\n",
      "Default LightGBM result on TEST:\n",
      "\n",
      "loss = 0.421856183789\n",
      "n_estimators = 10\n",
      "params = {'min_data_in_leaf': 20, 'sigmoid': 1.0, 'min_sum_hessian_in_leaf': 0.001, 'seed': 0, 'max_drop': 50, 'bagging_freq': 1, 'verbose': -1, 'lambda_l1': 0, 'min_child_samples': 10, 'lambda_l2': 0, 'nthread': 4, 'min_child_weight': 5, 'min_split_gain': 0, 'max_bin': 255, 'objective': 'binary', 'boosting_type': 'gbdt', 'metric': 'binary_logloss', 'skip_drop': 0.5, 'num_leaves': 31, 'reg_alpha': 0, 'subsample_for_bin': 50000, 'scale_pos_weight': 1, 'learning_rate': 0.1, 'n_estimators': 10, 'uniform_drop': False, 'num_threads': 4, 'colsample_bytree': 1, 'subsample_freq': 1, 'xgboost_dart_mode': False, 'max_depth': -1, 'subsample': 1, 'reg_lambda': 0, 'drop_rate': 0.1, 'is_unbalance': False}\n",
      "roc_auc = 0.809691\n",
      "Hyperopt iterations:\n",
      "\n",
      "\n",
      "[1/2]\teval_time=0.00 sec\tcurrent_logloss=0.693147\tmin_logloss=0.693147\n",
      "[2/2]\teval_time=0.03 sec\tcurrent_logloss=0.681118\tmin_logloss=0.681118\n",
      "saved state to results/tracker_test_lgb.pickle\n",
      "saved state to results/tracker_test_lgb.pickle\n",
      "Tuned LightGBM result on cv:\n",
      "\n",
      "loss = 0.681118060407\n",
      "best_n_estimators = 10\n",
      "params = {'num_leaves': 137, 'verbose': -1, 'lambda_l1': 0, 'bagging_fraction': 0.5292435929542255, 'learning_rate': 0.0025275717184566064, 'lambda_l2': 0, 'min_data_in_leaf': 10, 'max_bin': 255, 'objective': 'binary', 'bagging_freq': 1, 'min_sum_hessian_in_leaf': 4.1073662953607967e-07, 'metric': 'binary_logloss', 'feature_fraction': 0.9444627024858503}\n",
      "saved state to results/tracker_test_lgb.pickle\n",
      "Tuned LightGBM result on test:\n",
      "\n",
      "loss = 0.679501071153\n",
      "n_estimators = 10\n",
      "params = {'num_leaves': 137, 'verbose': -1, 'lambda_l1': 0, 'bagging_fraction': 0.5292435929542255, 'learning_rate': 0.0025275717184566064, 'lambda_l2': 0, 'min_data_in_leaf': 10, 'max_bin': 255, 'objective': 'binary', 'bagging_freq': 1, 'min_sum_hessian_in_leaf': 4.1073662953607967e-07, 'metric': 'binary_logloss', 'feature_fraction': 0.9444627024858503}\n",
      "roc_auc = 0.785802\n",
      "saved state to results/tracker_test_lgb.pickle\n"
     ]
    }
   ],
   "source": [
    "for exp in EXP_KEYS:\n",
    "    model_class = EXP_NAMES[exp]\n",
    "    model = model_class(TASK_CLASSIFICATION)\n",
    "    print \"~\"*20, model.get_name()\n",
    "    if is_mongo:\n",
    "        trackers[exp] = ProgressTrackerMongo(exp, CONFIG, mongo_host, mongo_port, mongo_db)\n",
    "    else:\n",
    "        trackers[exp] = ProgressTrackerFile(exp, CONFIG, RESULTS_DIR)\n",
    "    if LOAD_CACHE:\n",
    "        default_cv_result[exp], default_test_result[exp], tuned_cv_result[exp], tuned_test_result[exp], trials[exp] = \\\n",
    "            trackers[exp].load_state(as_list=True)\n",
    "    \n",
    "    \n",
    "    if default_cv_result[exp] is None:\n",
    "        default_cv_result[exp] = trainer.crossval_fit_eval(model, cv_pairs)\n",
    "        trackers[exp].save_state(default_cv=default_cv_result[exp])\n",
    "    trainer.print_result(default_cv_result[exp], 'Default {} result on CV'.format(model.get_name()))\n",
    "\n",
    "    if default_test_result[exp] is None:\n",
    "        default_test_result[exp] = trainer.fit_eval(model, dtrain, dtest,\n",
    "                                                  default_cv_result[exp]['params'],\n",
    "                                                  default_cv_result[exp]['best_n_estimators'],\n",
    "                                                  custom_metric = {'roc_auc': roc_auc_score})\n",
    "        trackers[exp].save_state(default_test=default_test_result[exp])\n",
    "\n",
    "    trainer.print_result(default_test_result[exp], 'Default {} result on TEST'.format(model.get_name()), extra_keys=['roc_auc'])\n",
    "\n",
    "        \n",
    "    if tuned_cv_result[exp] is None:\n",
    "        print('Hyperopt iterations:\\n\\n')\n",
    "        tuned_cv_result[exp] = trainer.crossval_optimize_params(model, cv_pairs,  algo_name=OPTIMIZER, \n",
    "                                                           trials=trials[exp], tracker=trackers[exp])\n",
    "        trackers[exp].save_state(tuned_cv=tuned_cv_result[exp])\n",
    "    trainer.print_result(tuned_cv_result[exp], 'Tuned {} result on cv'.format(model.get_name()))\n",
    "\n",
    "    if tuned_test_result[exp] is None:\n",
    "        tuned_test_result[exp] = trainer.fit_eval(model, dtrain, dtest,\n",
    "                                            tuned_cv_result[exp]['params'],\n",
    "                                            tuned_cv_result[exp]['best_n_estimators'],\n",
    "                                            custom_metric = {'roc_auc': roc_auc_score})\n",
    "        trackers[exp].save_state(tuned_test=tuned_test_result[exp])\n",
    "    trainer.print_result(tuned_test_result[exp], 'Tuned {} result on test'.format(model.get_name()), extra_keys=['roc_auc'])\n",
    "\n",
    "    trackers[exp].save_state(default_cv=default_cv_result[exp], default_test=default_test_result[exp], \n",
    "                               tuned_cv=tuned_cv_result[exp], tuned_test=tuned_test_result[exp], trials=trials[exp])\n",
    "    "
   ]
  },
  {
   "cell_type": "markdown",
   "metadata": {
    "collapsed": true
   },
   "source": [
    "## Compare"
   ]
  },
  {
   "cell_type": "code",
   "execution_count": 10,
   "metadata": {},
   "outputs": [
    {
     "data": {
      "text/html": [
       "<div>\n",
       "<table border=\"1\" class=\"dataframe\">\n",
       "  <thead>\n",
       "    <tr style=\"text-align: right;\">\n",
       "      <th></th>\n",
       "      <th>default</th>\n",
       "      <th>tuned</th>\n",
       "    </tr>\n",
       "  </thead>\n",
       "  <tbody>\n",
       "    <tr>\n",
       "      <th>xgb</th>\n",
       "      <td>0.788253 (-6.43%)</td>\n",
       "      <td>0.842389 (+0.00%)</td>\n",
       "    </tr>\n",
       "    <tr>\n",
       "      <th>lgb</th>\n",
       "      <td>0.809691 (-3.88%)</td>\n",
       "      <td>0.785802 (-6.72%)</td>\n",
       "    </tr>\n",
       "  </tbody>\n",
       "</table>\n",
       "</div>"
      ],
      "text/plain": [
       "               default              tuned\n",
       "xgb  0.788253 (-6.43%)  0.842389 (+0.00%)\n",
       "lgb  0.809691 (-3.88%)  0.785802 (-6.72%)"
      ]
     },
     "execution_count": 10,
     "metadata": {},
     "output_type": "execute_result"
    }
   ],
   "source": [
    "test_results_list = []\n",
    "metric, mes_min = 'roc_auc', False\n",
    "\n",
    "index = EXP_KEYS\n",
    "names = ['XGBoost', 'LightGBM'] # TODO make hash\n",
    "full_results = {}\n",
    "for i in index:\n",
    "    if i in trackers:\n",
    "        tracker = trackers[i]\n",
    "    else:\n",
    "        tracker = ProgressTracker(i, CONFIG, RESULTS_DIR)\n",
    "        tracker.load_state()\n",
    "    full_results.update({i:{'tuned': tracker.state['tuned_test'], 'default': tracker.state['default_test']}})\n",
    "    test_results_list.append([tracker.state['default_test'][metric], tracker.state['tuned_test'][metric]])\n",
    "test_results = np.array(test_results_list)\n",
    "\n",
    "baseline = test_results.max() if metric == 'roc_auc' else test_results.min()\n",
    "diff = 100 * (test_results / baseline - 1)\n",
    "\n",
    "res = [['{:.6f} ({:+.2f}%)'.format(test_results[i, j], diff[i, j]) for j in range(2)] for i in range(len(index))]\n",
    "\n",
    "pd.DataFrame(res, columns=['default', 'tuned'], index=index)"
   ]
  },
  {
   "cell_type": "code",
   "execution_count": 11,
   "metadata": {},
   "outputs": [
    {
     "name": "stdout",
     "output_type": "stream",
     "text": [
      "Populating the interactive namespace from numpy and matplotlib\n"
     ]
    },
    {
     "data": {
      "image/png": "[encoded data removed]",
      "text/plain": [
       "<matplotlib.figure.Figure at 0x7f817c3b70d0>"
      ]
     },
     "metadata": {},
     "output_type": "display_data"
    }
   ],
   "source": [
    "%pylab inline --no-import-all\n",
    "\n",
    "full_names = [\" \".join(i) for i in itertools.product(names, ['default', 'tuned'])]\n",
    "named_results = zip(full_names, test_results.flatten())\n",
    "sorted_results = sorted(named_results, key=lambda x: x[1])\n",
    "xticks = ['%s\\n%.5f' % (name, loss) for name, loss in sorted_results]\n",
    "\n",
    "plt.figure(figsize=(15, 4))\n",
    "plt.scatter(range(2*len(index)), zip(*sorted_results)[1], s=150)\n",
    "plt.xticks(range(2*len(index)), xticks, fontsize=15)\n",
    "plt.yticks(fontsize=12)\n",
    "plt.title('LHCb ecal Comparison', fontsize=20)\n",
    "plt.ylabel(metric, fontsize=16);"
   ]
  },
  {
   "cell_type": "code",
   "execution_count": null,
   "metadata": {
    "collapsed": true
   },
   "outputs": [],
   "source": []
  }
 ],
 "metadata": {
  "kernelspec": {
   "display_name": "Python 2",
   "language": "python",
   "name": "python2"
  },
  "language_info": {
   "codemirror_mode": {
    "name": "ipython",
    "version": 2
   },
   "file_extension": ".py",
   "mimetype": "text/x-python",
   "name": "python",
   "nbconvert_exporter": "python",
   "pygments_lexer": "ipython2",
   "version": "2.7.13"
  }
 },
 "nbformat": 4,
 "nbformat_minor": 1
}

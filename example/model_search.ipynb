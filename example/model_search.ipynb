{
 "cells": [
  {
   "cell_type": "code",
   "execution_count": 1,
   "metadata": {
    "collapsed": true
   },
   "outputs": [],
   "source": [
    "import os\n",
    "import pickle\n",
    "import itertools\n",
    "import pandas as pd\n",
    "import numpy as np\n",
    "#from modelgym import model\n",
    "import functools\n",
    "import modelgym\n",
    "vfrom modelgym.trainer import Trainer\n",
    "from modelgym.tracker import ProgressTrackerFile, ProgressTrackerMongo\n",
    "from sklearn.metrics import roc_auc_score\n",
    "from hyperopt.mongoexp import MongoTrials\n",
    "from modelgym.util import split_and_preprocess\n",
    "from sklearn.model_selection import train_test_split\n",
    "from collections import OrderedDict"
   ]
  },
  {
   "cell_type": "code",
   "execution_count": 2,
   "metadata": {},
   "outputs": [
    {
     "name": "stdout",
     "output_type": "stream",
     "text": [
      "Using File as backend for tracking\n",
      "Running experiment cofiguration: test\n"
     ]
    }
   ],
   "source": [
    "########### NROWS, N_ESTIMATORS, N_PROBES, TEST_SIZE, N_CV_SPLITS, OPTIMIZER\n",
    "config_tuple = {\n",
    "    'test': (1000, 100,  2, 0.5, 2, 'random'),\n",
    "    'pror': (None, 1000, 100, 0.5, 2, 'random'), # production with random hyperopt suggestor\n",
    "    'prot': (None, 1000, 100, 0.5, 2, 'tpe'),    # production with tpe hyperopt suggestor\n",
    "    'demi': (10000, 100, 5, 0.5, 2, 'random')\n",
    "}\n",
    "CONFIG = 'test' if 'EXP_CONFIG' not in os.environ else os.environ['EXP_CONFIG']\n",
    "NROWS, N_ESTIMATORS, N_PROBES, TEST_SIZE, N_CV_SPLITS, OPTIMIZER = config_tuple[CONFIG]\n",
    "CANDIDATES = OrderedDict([\n",
    "    ('XGBoost', modelgym.XGBModel), \n",
    "    ('LightGBM', modelgym.LGBModel),\n",
    "    ('RandomForestClassifier',modelgym.RFModel)\n",
    "])\n",
    "RESULTS_DIR = \"results\"\n",
    "LOAD_CACHE = False\n",
    "if 'MONGO_PORT_27017_TCP_ADDR' in os.environ:\n",
    "    mongo_host = os.environ['MONGO_PORT_27017_TCP_ADDR'] if 'MONGO_PORT_27017_TCP_ADDR' in os.environ else 'cern-mc01h'\n",
    "    mongo_port = int(os.environ['MONGO_PORT_27017_TCP_PORT']) if 'MONGO_PORT_27017_TCP_PORT' in os.environ else 27017\n",
    "    mongo_db = os.environ['MONGO_DB'] if 'MONGO_DB' in os.environ else 'trials'\n",
    "    tracker_factory = functools.partial(ProgressTrackerMongo, mongo_host, mongo_port, mongo_db, config_key=CONFIG)\n",
    "    print (\"Using Mongo as backend for tracking\")\n",
    "else:\n",
    "    tracker_factory = functools.partial(ProgressTrackerFile, RESULTS_DIR, config_key=CONFIG)\n",
    "    print (\"Using File as backend for tracking\")\n",
    "\n",
    "print (\"Running experiment cofiguration:\", CONFIG)"
   ]
  },
  {
   "cell_type": "markdown",
   "metadata": {},
   "source": [
    "## Download & read data file"
   ]
  },
  {
   "cell_type": "code",
   "execution_count": 3,
   "metadata": {},
   "outputs": [
    {
     "name": "stdout",
     "output_type": "stream",
     "text": [
      "total 266224\n",
      "-rw-r--r--  1 macbook  staff  136304022 Aug 11 14:40 XY2d.pickle\n"
     ]
    }
   ],
   "source": [
    "%%bash \n",
    "if [ ! -d data ] ; then \n",
    "    mkdir data \n",
    "    cd data\n",
    "    curl https://cernbox.cern.ch/index.php/s/N1dpSAPgl30szYM/download | gunzip -c > XY2d.pickle\n",
    "    cd ..\n",
    "fi\n",
    "ls -l data"
   ]
  },
  {
   "cell_type": "code",
   "execution_count": 4,
   "metadata": {
    "collapsed": true
   },
   "outputs": [],
   "source": [
    "def read_data(fname, nrows=None, shuffle=True):\n",
    "    with open(fname,'rb') as fh:\n",
    "        X, y = pickle.load(fh,encoding='bytes')\n",
    "    index = np.arange(X.shape[0])\n",
    "    if nrows is None:\n",
    "        nrows = X.shape[0]\n",
    "    weights = np.ones(nrows) # uh, well...\n",
    "    if shuffle:\n",
    "        index_perm = np.random.permutation(index)\n",
    "    else:\n",
    "        index_perm = index\n",
    "    return X[index_perm[:nrows]], y[index_perm[:nrows]], weights\n",
    "\n",
    "\n",
    "X, y, weights = read_data(\"data/XY2d.pickle\", nrows=NROWS)"
   ]
  },
  {
   "cell_type": "code",
   "execution_count": 5,
   "metadata": {
    "collapsed": true
   },
   "outputs": [],
   "source": [
    "X_train, X_test, y_train, y_test, w_train, w_test = train_test_split(X, y, weights, test_size=TEST_SIZE)"
   ]
  },
  {
   "cell_type": "code",
   "execution_count": 6,
   "metadata": {
    "collapsed": true
   },
   "outputs": [],
   "source": [
    "cv_pairs, (dtrain, dtest) = split_and_preprocess(X_train.copy(), y_train, \n",
    "                                                X_test.copy(), y_test, \n",
    "                                                cat_cols=[], n_splits=N_CV_SPLITS)"
   ]
  },
  {
   "cell_type": "markdown",
   "metadata": {},
   "source": [
    "## Run them all"
   ]
  },
  {
   "cell_type": "code",
   "execution_count": 7,
   "metadata": {
    "collapsed": true
   },
   "outputs": [],
   "source": [
    "trackers = {}\n",
    "def init_keys_dict():\n",
    "    return dict([(k, None) for k in CANDIDATES.keys()])\n",
    "default_cv_result = init_keys_dict()\n",
    "tuned_cv_result = init_keys_dict()\n",
    "default_test_result = init_keys_dict()\n",
    "tuned_test_result = init_keys_dict()\n",
    "trials = init_keys_dict()\n",
    "trainer = Trainer(hyperopt_evals=N_PROBES, n_estimators=N_ESTIMATORS)"
   ]
  },
  {
   "cell_type": "code",
   "execution_count": 8,
   "metadata": {},
   "outputs": [
    {
     "name": "stdout",
     "output_type": "stream",
     "text": [
      "~~~~~~~~~~~~~~~~~~~~ XGBoost ~~~~~~~~~~~~~~~~~~~~\n",
      "BST  <xgboost.core.Booster object at 0x1137407b8>\n",
      "RES [0.651906, 0.619466, 0.595797, 0.570177, 0.549959, 0.533865, 0.517683, 0.508094, 0.498323, 0.489751, 0.483593, 0.481275, 0.473426, 0.470427, 0.467778, 0.468575, 0.462598, 0.462215, 0.460145, 0.459664, 0.460578, 0.461584, 0.460159, 0.460311, 0.459758, 0.460916, 0.462914, 0.463425, 0.463501, 0.462846, 0.459814, 0.459635, 0.460053, 0.461501, 0.463631, 0.462192, 0.463493, 0.464959, 0.46598, 0.466231, 0.468352, 0.468066, 0.471497, 0.471363, 0.471278, 0.469308, 0.470472, 0.472254, 0.471829, 0.47042, 0.471658, 0.471741, 0.475487, 0.476681, 0.477628, 0.47862, 0.479169, 0.479002, 0.481112, 0.483859, 0.487533, 0.487557, 0.490524, 0.491351, 0.492819, 0.494867, 0.495262, 0.496435, 0.498202, 0.499088, 0.500017, 0.501729, 0.504849, 0.506944, 0.506028, 0.507171, 0.509093, 0.510103, 0.511932, 0.511187, 0.511971, 0.514112, 0.514111, 0.515143, 0.517119, 0.51774, 0.518787, 0.516244, 0.516616, 0.519584, 0.520881, 0.52234, 0.523548, 0.525246, 0.52711, 0.529291, 0.531707, 0.530985, 0.532768, 0.533859]\n",
      "BST  <xgboost.core.Booster object at 0x113740710>\n",
      "RES [0.649889, 0.611811, 0.583501, 0.558332, 0.537668, 0.523392, 0.505568, 0.494089, 0.484718, 0.473888, 0.464556, 0.459449, 0.453898, 0.451606, 0.449263, 0.444999, 0.441641, 0.442995, 0.442389, 0.440689, 0.439698, 0.438509, 0.438193, 0.439888, 0.436678, 0.435597, 0.438132, 0.436612, 0.439321, 0.440512, 0.440272, 0.440263, 0.441825, 0.445281, 0.444955, 0.445113, 0.445207, 0.44759, 0.447533, 0.446775, 0.44938, 0.450855, 0.451534, 0.452377, 0.455154, 0.456417, 0.4577, 0.459947, 0.461038, 0.462418, 0.463749, 0.464602, 0.464845, 0.46565, 0.463744, 0.464931, 0.465711, 0.466949, 0.467736, 0.468512, 0.469214, 0.470536, 0.468998, 0.47, 0.469545, 0.470464, 0.473425, 0.474737, 0.475731, 0.475959, 0.475713, 0.476968, 0.478035, 0.479563, 0.480955, 0.481431, 0.481682, 0.480364, 0.479768, 0.481097, 0.481633, 0.48005, 0.480408, 0.479579, 0.479419, 0.480937, 0.483717, 0.482683, 0.482987, 0.484303, 0.484642, 0.485424, 0.485991, 0.487193, 0.489776, 0.490949, 0.492228, 0.492532, 0.492303, 0.492757]\n",
      "saved state to results/tracker_test_XGBoost.pickle\n",
      "Default XGBoost result on CV:\n",
      "\n",
      "loss = 0.448218\n",
      "best_n_estimators = 25\n",
      "params = {'base_score': 0.5, 'colsample_bylevel': 1, 'colsample_bytree': 1, 'gamma': 0, 'learning_rate': 0.1, 'max_delta_step': 0, 'max_depth': 3, 'min_child_weight': 1, 'missing': None, 'n_estimators': 100, 'nthread': -1, 'reg_alpha': 0, 'reg_lambda': 1, 'scale_pos_weight': 1, 'seed': 0, 'subsample': 1, 'objective': 'binary:logistic', 'eval_metric': 'logloss', 'silent': 1}\n",
      "BST  <xgboost.core.Booster object at 0x113740780>\n",
      "RES [0.642675, 0.601728, 0.567889, 0.539007, 0.513614, 0.492652, 0.474241, 0.457618, 0.445255, 0.432545, 0.42064, 0.412142, 0.40316, 0.396384, 0.390427, 0.384332, 0.37847, 0.374685, 0.370456, 0.366013, 0.362302, 0.360314, 0.356702, 0.354014, 0.351111]\n",
      "saved state to results/tracker_test_XGBoost.pickle\n",
      "Default XGBoost result on TEST:\n",
      "\n",
      "loss = 0.351111\n",
      "n_estimators = 25\n",
      "params = {'base_score': 0.5, 'colsample_bylevel': 1, 'colsample_bytree': 1, 'gamma': 0, 'learning_rate': 0.1, 'max_delta_step': 0, 'max_depth': 3, 'min_child_weight': 1, 'missing': None, 'n_estimators': 100, 'nthread': -1, 'reg_alpha': 0, 'reg_lambda': 1, 'scale_pos_weight': 1, 'seed': 0, 'subsample': 1, 'objective': 'binary:logistic', 'eval_metric': 'logloss', 'silent': 1}\n",
      "roc_auc = 0.831922\n",
      "Hyperopt iterations:\n",
      "\n",
      "\n",
      "BST  <xgboost.core.Booster object at 0x126974080>\n",
      "RES [0.611686, 0.554245, 0.510263, 0.486311, 0.475977, 0.478452, 0.46839, 0.479082, 0.481211, 0.486603, 0.491608, 0.496215, 0.505666, 0.517891, 0.525727, 0.532593, 0.539773, 0.553409, 0.551947, 0.560329, 0.562254, 0.561373, 0.573258, 0.56907, 0.578598, 0.590616, 0.605093, 0.612596, 0.62088, 0.62028, 0.634209, 0.634579, 0.64564, 0.645315, 0.648158, 0.654212, 0.671597, 0.673728, 0.677377, 0.6782, 0.674404, 0.672092, 0.66984, 0.671331, 0.674781, 0.676288, 0.680764, 0.684223, 0.691364, 0.69162, 0.693738, 0.699647, 0.694845, 0.699666, 0.700134, 0.699078, 0.698659, 0.702379, 0.706818, 0.714153, 0.720214, 0.718061, 0.715851, 0.719657, 0.723493, 0.724102, 0.724119, 0.725081, 0.723537, 0.724569, 0.730012, 0.734057, 0.735385, 0.735237, 0.741991, 0.742934, 0.749603, 0.754997, 0.755567, 0.760051, 0.761342, 0.761657, 0.760709, 0.760528, 0.763884, 0.769454, 0.765752, 0.765732, 0.772078, 0.76657, 0.765231, 0.760925, 0.769008, 0.770521, 0.773922, 0.77064, 0.76872, 0.76839, 0.768355, 0.769037]\n",
      "BST  <xgboost.core.Booster object at 0x126974048>\n",
      "RES [0.594019, 0.550712, 0.511819, 0.492058, 0.46528, 0.457445, 0.451116, 0.452184, 0.456056, 0.45749, 0.465348, 0.478401, 0.483792, 0.498714, 0.511265, 0.524253, 0.534462, 0.548621, 0.561394, 0.561979, 0.577728, 0.587818, 0.600693, 0.605343, 0.613206, 0.617348, 0.622586, 0.629893, 0.638365, 0.651233, 0.652971, 0.657565, 0.666633, 0.665274, 0.663458, 0.657309, 0.663338, 0.662098, 0.660808, 0.661494, 0.66129, 0.660034, 0.662671, 0.665336, 0.678756, 0.683296, 0.690357, 0.696465, 0.69935, 0.696835, 0.695589, 0.692949, 0.684813, 0.686064, 0.68905, 0.695963, 0.695741, 0.696625, 0.700574, 0.698063, 0.696559, 0.705081, 0.702597, 0.702314, 0.714697, 0.712919, 0.712296, 0.716152, 0.720638, 0.719998, 0.722164, 0.723364, 0.719292, 0.722819, 0.72394, 0.730244, 0.735496, 0.742442, 0.745109, 0.745348, 0.746371, 0.750511, 0.745903, 0.750565, 0.758014, 0.760152, 0.759713, 0.76143, 0.76027, 0.761499, 0.762637, 0.758777, 0.756392, 0.7594, 0.76089, 0.759871, 0.762575, 0.765275, 0.766123, 0.769948]\n",
      "[1/2]\teval_time=0.22 sec\tcurrent_logloss=0.459753\tmin_logloss=0.459753\n",
      "BST  <xgboost.core.Booster object at 0x126974c50>\n",
      "RES [0.536854, 0.481475, 0.506783, 0.520884, 0.52887, 0.529232, 0.546104, 0.563048, 0.572773, 0.592074, 0.622867, 0.63668, 0.677751, 0.689548, 0.695364, 0.706437, 0.723054, 0.741851, 0.774195, 0.810768, 0.836235, 0.855061, 0.896267, 0.906895, 0.930934, 0.96571, 0.995543, 0.98747, 1.001559, 1.022755, 1.032659, 1.063463, 1.083379, 1.107522, 1.119422, 1.131683, 1.127361, 1.138144, 1.147252, 1.158052, 1.186178, 1.192182, 1.196249, 1.192808, 1.195477, 1.190261, 1.188008, 1.197171, 1.195492, 1.192305, 1.196536, 1.196525, 1.19602, 1.216705, 1.213346, 1.214553, 1.215947, 1.213527, 1.210578, 1.214222, 1.213511, 1.209503, 1.211513, 1.216041, 1.217892, 1.216281, 1.216906, 1.219615, 1.216478, 1.21382, 1.216914, 1.217258, 1.2142, 1.213892, 1.209027, 1.213212, 1.214419, 1.21309, 1.215578, 1.213459, 1.211501, 1.228314, 1.228159, 1.228474, 1.233859, 1.232167, 1.235116, 1.22778, 1.231568, 1.236224, 1.233617, 1.229253, 1.230461, 1.227, 1.223853, 1.228073, 1.231297, 1.234215, 1.228916, 1.233769]\n",
      "BST  <xgboost.core.Booster object at 0x126974048>\n",
      "RES [0.565391, 0.505462, 0.496707, 0.510403, 0.486363, 0.497305, 0.518086, 0.538763, 0.551946, 0.564069, 0.583683, 0.607072, 0.638135, 0.640733, 0.667528, 0.692124, 0.691938, 0.718807, 0.724643, 0.743865, 0.763691, 0.780293, 0.81953, 0.855064, 0.885357, 0.907011, 0.915719, 0.923948, 0.933853, 0.961012, 0.995867, 1.003902, 1.037098, 1.072431, 1.080464, 1.096467, 1.114307, 1.128584, 1.145046, 1.154617, 1.157457, 1.160419, 1.156523, 1.157931, 1.164685, 1.168883, 1.170326, 1.168402, 1.169023, 1.180414, 1.177841, 1.178195, 1.175547, 1.178558, 1.183448, 1.18854, 1.179681, 1.179786, 1.179275, 1.177629, 1.180181, 1.175846, 1.174429, 1.184073, 1.183801, 1.179536, 1.176762, 1.172418, 1.172268, 1.172736, 1.174745, 1.174205, 1.17716, 1.175979, 1.177134, 1.179209, 1.176545, 1.174743, 1.180926, 1.182555, 1.1778, 1.178523, 1.177001, 1.179364, 1.182894, 1.178336, 1.177949, 1.179876, 1.18012, 1.18022, 1.183031, 1.180949, 1.180218, 1.178088, 1.181587, 1.181586, 1.180301, 1.181432, 1.175058, 1.173159]\n",
      "[2/2]\teval_time=0.19 sec\tcurrent_logloss=0.493468\tmin_logloss=0.459753\n",
      "saved state to results/tracker_test_XGBoost.pickle\n",
      "saved state to results/tracker_test_XGBoost.pickle\n",
      "Tuned XGBoost result on cv:\n",
      "\n",
      "loss = 0.45975299999999997\n",
      "best_n_estimators = 7\n",
      "params = {'alpha': 0, 'colsample_bylevel': 0.7405046763756069, 'colsample_bytree': 0.6151399892026908, 'eta': 0.22398969443165967, 'gamma': 5.745168482871384e-07, 'lambda': 0.019440307789833522, 'max_depth': 10, 'min_child_weight': 0.16853765259109013, 'subsample': 0.6197753137030573, 'objective': 'binary:logistic', 'eval_metric': 'logloss', 'silent': 1}\n",
      "BST  <xgboost.core.Booster object at 0x113730710>\n",
      "RES [0.596192, 0.524995, 0.468453, 0.424907, 0.396033, 0.374843, 0.354627]\n",
      "saved state to results/tracker_test_XGBoost.pickle\n",
      "Tuned XGBoost result on test:\n",
      "\n",
      "loss = 0.354627\n",
      "n_estimators = 7\n",
      "params = {'alpha': 0, 'colsample_bylevel': 0.7405046763756069, 'colsample_bytree': 0.6151399892026908, 'eta': 0.22398969443165967, 'gamma': 5.745168482871384e-07, 'lambda': 0.019440307789833522, 'max_depth': 10, 'min_child_weight': 0.16853765259109013, 'subsample': 0.6197753137030573, 'objective': 'binary:logistic', 'eval_metric': 'logloss', 'silent': 1}\n",
      "roc_auc = 0.817710\n",
      "saved state to results/tracker_test_XGBoost.pickle\n",
      "~~~~~~~~~~~~~~~~~~~~ LightGBM ~~~~~~~~~~~~~~~~~~~~\n"
     ]
    },
    {
     "name": "stdout",
     "output_type": "stream",
     "text": [
      "saved state to results/tracker_test_LightGBM.pickle\n",
      "Default LightGBM result on CV:\n",
      "\n",
      "loss = 0.456619461995\n",
      "best_n_estimators = 25\n",
      "params = {'boosting_type': 'gbdt', 'colsample_bytree': 1, 'drop_rate': 0.1, 'is_unbalance': False, 'learning_rate': 0.1, 'max_bin': 255, 'min_data_in_leaf': 20, 'max_depth': -1, 'max_drop': 50, 'min_child_samples': 10, 'min_child_weight': 5, 'min_split_gain': 0, 'min_sum_hessian_in_leaf': 0.001, 'lambda_l1': 0, 'lambda_l2': 0, 'n_estimators': 10, 'nthread': 4, 'num_threads': 4, 'num_leaves': 31, 'reg_alpha': 0, 'reg_lambda': 0, 'scale_pos_weight': 1, 'seed': 0, 'sigmoid': 1.0, 'skip_drop': 0.5, 'subsample': 1, 'subsample_for_bin': 50000, 'subsample_freq': 1, 'uniform_drop': False, 'xgboost_dart_mode': False, 'objective': 'binary', 'metric': 'binary_logloss', 'bagging_freq': 1, 'verbose': -1}\n",
      "saved state to results/tracker_test_LightGBM.pickle\n",
      "Default LightGBM result on TEST:\n",
      "\n",
      "loss = 0.353598478976\n",
      "n_estimators = 25\n",
      "params = {'boosting_type': 'gbdt', 'colsample_bytree': 1, 'drop_rate': 0.1, 'is_unbalance': False, 'learning_rate': 0.1, 'max_bin': 255, 'min_data_in_leaf': 20, 'max_depth': -1, 'max_drop': 50, 'min_child_samples': 10, 'min_child_weight': 5, 'min_split_gain': 0, 'min_sum_hessian_in_leaf': 0.001, 'lambda_l1': 0, 'lambda_l2': 0, 'n_estimators': 10, 'nthread': 4, 'num_threads': 4, 'num_leaves': 31, 'reg_alpha': 0, 'reg_lambda': 0, 'scale_pos_weight': 1, 'seed': 0, 'sigmoid': 1.0, 'skip_drop': 0.5, 'subsample': 1, 'subsample_for_bin': 50000, 'subsample_freq': 1, 'uniform_drop': False, 'xgboost_dart_mode': False, 'objective': 'binary', 'metric': 'binary_logloss', 'bagging_freq': 1, 'verbose': -1}\n",
      "roc_auc = 0.802353\n",
      "Hyperopt iterations:\n",
      "\n",
      "\n",
      "[1/2]\teval_time=0.08 sec\tcurrent_logloss=0.693147\tmin_logloss=0.693147\n",
      "[2/2]\teval_time=1.25 sec\tcurrent_logloss=0.600137\tmin_logloss=0.600137\n",
      "saved state to results/tracker_test_LightGBM.pickle\n",
      "saved state to results/tracker_test_LightGBM.pickle\n",
      "Tuned LightGBM result on cv:\n",
      "\n",
      "loss = 0.6001367201472755\n",
      "best_n_estimators = 100\n",
      "params = {'bagging_fraction': 0.5292435929542255, 'feature_fraction': 0.9444627024858503, 'lambda_l1': 0, 'lambda_l2': 0, 'learning_rate': 0.0025275717184566064, 'min_data_in_leaf': 10, 'min_sum_hessian_in_leaf': 4.1073662953607967e-07, 'num_leaves': 137, 'objective': 'binary', 'metric': 'binary_logloss', 'bagging_freq': 1, 'verbose': -1, 'max_bin': 255}\n",
      "saved state to results/tracker_test_LightGBM.pickle\n",
      "Tuned LightGBM result on test:\n",
      "\n",
      "loss = 0.580655214117\n",
      "n_estimators = 100\n",
      "params = {'bagging_fraction': 0.5292435929542255, 'feature_fraction': 0.9444627024858503, 'lambda_l1': 0, 'lambda_l2': 0, 'learning_rate': 0.0025275717184566064, 'min_data_in_leaf': 10, 'min_sum_hessian_in_leaf': 4.1073662953607967e-07, 'num_leaves': 137, 'objective': 'binary', 'metric': 'binary_logloss', 'bagging_freq': 1, 'verbose': -1, 'max_bin': 255}\n",
      "roc_auc = 0.820549\n",
      "saved state to results/tracker_test_LightGBM.pickle\n",
      "~~~~~~~~~~~~~~~~~~~~ RandomForestClassifier ~~~~~~~~~~~~~~~~~~~~\n",
      "{'criterion': 'entropy', 'max_depth': 19, 'max_features': 3, 'n_estimators': 16, 'normalize': 0, 'scale': 1}\n",
      "{'max_depth': 1, 'max_features': 4, 'n_estimators': 10, 'criterion': 'gini', 'verbose': 0}\n",
      "{'criterion': 'entropy', 'max_depth': 11, 'max_features': 4, 'n_estimators': 8, 'normalize': 0, 'scale': 1}\n",
      "{'max_depth': 1, 'max_features': 4, 'n_estimators': 10, 'criterion': 'gini', 'verbose': 0}\n",
      "saved state to results/tracker_test_RandomForestClassifier.pickle\n",
      "Default RandomForestClassifier result on CV:\n",
      "\n",
      "loss = 0.699847007076\n",
      "best_n_estimators = 215\n",
      "params = {'max_depth': 1, 'max_features': 4, 'n_estimators': 10, 'criterion': 'gini', 'verbose': 0}\n",
      "{'criterion': 'gini', 'max_depth': 8, 'max_features': 4, 'n_estimators': 17, 'normalize': 1, 'scale': 0}\n",
      "{'max_depth': 1, 'max_features': 4, 'n_estimators': 10, 'criterion': 'gini', 'verbose': 0}\n",
      "saved state to results/tracker_test_RandomForestClassifier.pickle\n",
      "Default RandomForestClassifier result on TEST:\n",
      "\n",
      "loss = 0.805966380492\n",
      "n_estimators = 215\n",
      "params = {'max_depth': 1, 'max_features': 4, 'n_estimators': 10, 'criterion': 'gini', 'verbose': 0}\n",
      "roc_auc = 0.500000\n",
      "Hyperopt iterations:\n",
      "\n",
      "\n",
      "{'criterion': 'gini', 'max_depth': 14, 'max_features': 3, 'n_estimators': 10, 'normalize': 1, 'scale': 0}\n",
      "{'criterion': 'entropy', 'max_depth': 11, 'max_features': 1, 'n_estimators': 5, 'verbose': 0}\n",
      "{'criterion': 'gini', 'max_depth': 10, 'max_features': 3, 'n_estimators': 17, 'normalize': 0, 'scale': 0}\n",
      "{'criterion': 'entropy', 'max_depth': 11, 'max_features': 1, 'n_estimators': 5, 'verbose': 0}\n",
      "[1/2]\teval_time=142.61 sec\tcurrent_logloss=0.639989\tmin_logloss=0.639989\n",
      "{'criterion': 'gini', 'max_depth': 10, 'max_features': 1, 'n_estimators': 7, 'normalize': 0, 'scale': 1}\n",
      "{'criterion': 'entropy', 'max_depth': 5, 'max_features': 2, 'n_estimators': 2, 'verbose': 0}\n",
      "{'criterion': 'gini', 'max_depth': 8, 'max_features': 3, 'n_estimators': 12, 'normalize': 1, 'scale': 1}\n",
      "{'criterion': 'entropy', 'max_depth': 5, 'max_features': 2, 'n_estimators': 2, 'verbose': 0}\n",
      "[2/2]\teval_time=136.96 sec\tcurrent_logloss=0.722031\tmin_logloss=0.639989\n",
      "saved state to results/tracker_test_RandomForestClassifier.pickle\n",
      "saved state to results/tracker_test_RandomForestClassifier.pickle\n",
      "Tuned RandomForestClassifier result on cv:\n",
      "\n",
      "loss = 0.6399885255306942\n",
      "best_n_estimators = 233\n",
      "params = {'criterion': 'entropy', 'max_depth': 11, 'max_features': 1, 'n_estimators': 5, 'verbose': 0}\n",
      "{'criterion': 'entropy', 'max_depth': 6, 'max_features': 2, 'n_estimators': 12, 'normalize': 1, 'scale': 0}\n",
      "{'criterion': 'entropy', 'max_depth': 11, 'max_features': 1, 'n_estimators': 5, 'verbose': 0}\n",
      "saved state to results/tracker_test_RandomForestClassifier.pickle\n",
      "Tuned RandomForestClassifier result on test:\n",
      "\n",
      "loss = 0.809946372316\n",
      "n_estimators = 233\n",
      "params = {'criterion': 'entropy', 'max_depth': 11, 'max_features': 1, 'n_estimators': 5, 'verbose': 0}\n",
      "roc_auc = 0.547059\n",
      "saved state to results/tracker_test_RandomForestClassifier.pickle\n"
     ]
    }
   ],
   "source": [
    "for model_id, model_class in CANDIDATES.items():\n",
    "    model = model_class(TASK_CLASSIFICATION)\n",
    "    print (\"~\"*20, model.get_name(), \"~\"*20)\n",
    "    trackers[model_id] = tracker_factory(model_name=model.get_name())\n",
    "    if LOAD_CACHE:\n",
    "        default_cv_result[model_id], default_test_result[model_id], tuned_cv_result[model_id], tuned_test_result[model_id], trials[model_id] = \\\n",
    "            trackers[model_id].load_state(as_list=True)\n",
    "    \n",
    "    \n",
    "    if default_cv_result[model_id] is None:\n",
    "        default_cv_result[model_id] = trainer.crossval_fit_eval(model, cv_pairs)\n",
    "        trackers[model_id].save_state(default_cv=default_cv_result[model_id])\n",
    "    trainer.print_result(default_cv_result[model_id], 'Default {} result on CV'.format(model.get_name()))\n",
    "\n",
    "    if default_test_result[model_id] is None:\n",
    "        default_test_result[model_id] = trainer.fit_eval(model, dtrain, dtest,\n",
    "                                                  default_cv_result[model_id]['params'],\n",
    "                                                  default_cv_result[model_id]['best_n_estimators'],\n",
    "                                                  custom_metric = {'roc_auc': roc_auc_score})\n",
    "        trackers[model_id].save_state(default_test=default_test_result[model_id])\n",
    "\n",
    "    trainer.print_result(default_test_result[model_id], 'Default {} result on TEST'.format(model.get_name()), extra_keys=['roc_auc'])\n",
    "\n",
    "        \n",
    "    if tuned_cv_result[model_id] is None:\n",
    "        print('Hyperopt iterations:\\n\\n')\n",
    "        tuned_cv_result[model_id] = trainer.crossval_optimize_params(model, cv_pairs,  algo_name=OPTIMIZER, \n",
    "                                                           trials=trials[model_id], tracker=trackers[model_id])\n",
    "        trackers[model_id].save_state(tuned_cv=tuned_cv_result[model_id])\n",
    "    trainer.print_result(tuned_cv_result[model_id], 'Tuned {} result on cv'.format(model.get_name()))\n",
    "\n",
    "    if tuned_test_result[model_id] is None:\n",
    "        tuned_test_result[model_id] = trainer.fit_eval(model, dtrain, dtest,\n",
    "                                            tuned_cv_result[model_id]['params'],\n",
    "                                            tuned_cv_result[model_id]['best_n_estimators'],\n",
    "                                            custom_metric = {'roc_auc': roc_auc_score})\n",
    "        trackers[model_id].save_state(tuned_test=tuned_test_result[model_id])\n",
    "    trainer.print_result(tuned_test_result[model_id], 'Tuned {} result on test'.format(model.get_name()), extra_keys=['roc_auc'])\n",
    "\n",
    "    trackers[model_id].save_state(default_cv=default_cv_result[model_id], default_test=default_test_result[model_id], \n",
    "                               tuned_cv=tuned_cv_result[model_id], tuned_test=tuned_test_result[model_id], trials=trials[model_id])\n",
    "    "
   ]
  },
  {
   "cell_type": "markdown",
   "metadata": {},
   "source": [
    "## Compare"
   ]
  },
  {
   "cell_type": "code",
   "execution_count": 9,
   "metadata": {
    "collapsed": true
   },
   "outputs": [],
   "source": [
    "metric, mes_min = 'roc_auc', False\n",
    "full_results = {}\n",
    "for i in CANDIDATES.keys():\n",
    "    if i in trackers:\n",
    "        tracker = trackers[i]\n",
    "    else:\n",
    "        tracker = tracker_factory(model_name=i)\n",
    "        tracker.load_state()\n",
    "    full_results.update({i:{'tuned': tracker.state['tuned_test'], 'default': tracker.state['default_test']}})"
   ]
  },
  {
   "cell_type": "code",
   "execution_count": 10,
   "metadata": {
    "collapsed": true
   },
   "outputs": [],
   "source": [
    "def plot_metric_results(full_results, index, metric, is_min_better=True):\n",
    "    test_results_list = []\n",
    "    for i in index:\n",
    "        test_results_list.append([full_results[i]['default'][metric], full_results[i]['tuned'][metric]])\n",
    "        \n",
    "    test_results = np.array(test_results_list)\n",
    "    if is_min_better:\n",
    "        baseline = test_results.min()\n",
    "    else:\n",
    "        baseline = test_results.max()\n",
    "    diff = 100 * test_results / baseline - 100\n",
    "    test_results_formatted = [['{:.6f} ({:+.2f}%)'.format(test_results[i, j], diff[i, j]) for j in range(2)] for i in range(len(index))]\n",
    "\n",
    "    print (pd.DataFrame(test_results_formatted, columns=['default', 'tuned'], index=index))\n",
    "    \n",
    "    full_names = [\" \".join(i) for i in itertools.product(index, ['default', 'tuned'])]\n",
    "\n",
    "    named_results = zip(full_names, test_results.flatten())\n",
    "\n",
    "    sorted_results = sorted(named_results, key=lambda x: x[1], reverse=not is_min_better)\n",
    "    xticks = ['%s\\n%.5f' % (name, loss) for name, loss in sorted_results]\n",
    "\n",
    "    pyplot.figure(figsize=(20, 7))\n",
    "    pyplot.scatter(range(len(full_names)), list(zip(*sorted_results))[1], s=150)\n",
    "    pyplot.xticks(range(len(full_names)), xticks, fontsize=15)\n",
    "    pyplot.yticks(fontsize=12)\n",
    "    pyplot.title('Comparison', fontsize=20)\n",
    "    pyplot.ylabel(metric, fontsize=16)"
   ]
  },
  {
   "cell_type": "code",
   "execution_count": 11,
   "metadata": {},
   "outputs": [
    {
     "name": "stdout",
     "output_type": "stream",
     "text": [
      "Populating the interactive namespace from numpy and matplotlib\n",
      "                                   default               tuned\n",
      "XGBoost                  0.831922 (+0.00%)   0.817710 (-1.71%)\n",
      "LightGBM                 0.802353 (-3.55%)   0.820549 (-1.37%)\n",
      "RandomForestClassifier  0.500000 (-39.90%)  0.547059 (-34.24%)\n"
     ]
    },
    {
     "data": {
      "image/png": "[encoded data removed]",
      "text/plain": [
       "<matplotlib.figure.Figure at 0x1140683c8>"
      ]
     },
     "metadata": {},
     "output_type": "display_data"
    }
   ],
   "source": [
    "%pylab inline --no-import-all\n",
    "metric, is_min_better = 'roc_auc', False\n",
    "plot_metric_results(full_results, CANDIDATES.keys(), metric, is_min_better=is_min_better)"
   ]
  },
  {
   "cell_type": "code",
   "execution_count": null,
   "metadata": {
    "collapsed": true
   },
   "outputs": [],
   "source": []
  }
 ],
 "metadata": {
  "kernelspec": {
   "display_name": "Python 2",
   "language": "python",
   "name": "python2"
  },
  "language_info": {
   "codemirror_mode": {
    "name": "ipython",
    "version": 3
   },
   "file_extension": ".py",
   "mimetype": "text/x-python",
   "name": "python",
   "nbconvert_exporter": "python",
   "pygments_lexer": "ipython3",
   "version": "3.6.2"
  }
 },
 "nbformat": 4,
 "nbformat_minor": 1
}
